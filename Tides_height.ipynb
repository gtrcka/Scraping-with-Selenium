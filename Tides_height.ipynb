{
 "cells": [
  {
   "cell_type": "markdown",
   "id": "7abadfc9",
   "metadata": {},
   "source": [
    "# Método para calcular la altura de la marea en un instante prefijado"
   ]
  },
  {
   "cell_type": "markdown",
   "id": "0caa445f",
   "metadata": {},
   "source": [
    "#### Imports"
   ]
  },
  {
   "cell_type": "code",
   "execution_count": 3,
   "id": "087f661f",
   "metadata": {},
   "outputs": [],
   "source": [
    "import pandas as pd \n",
    "import matplotlib.pyplot as plt\n",
    "import matplotlib\n",
    "import numpy as np\n",
    "import seaborn as sns\n",
    "import datetime\n",
    "%matplotlib notebook\n",
    "import matplotlib\n",
    "\n",
    "\n",
    "from matplotlib.gridspec import GridSpec\n",
    "from selenium import webdriver\n",
    "from selenium.webdriver.common.by import By\n",
    "from selenium.webdriver.support.ui import WebDriverWait\n",
    "from selenium.webdriver.support import expected_conditions as EC\n",
    "from selenium.webdriver.support.ui import Select\n",
    "from wordcloud import WordCloud\n",
    "from calendar import monthrange\n",
    "from time import process_time, sleep\n",
    "\n",
    "import sys\n",
    "from io import StringIO\n",
    "\n",
    "url = \"http://www.hidro.gob.ar/oceanografia/Tmareas/Form_Tmareas.asp\""
   ]
  },
  {
   "cell_type": "markdown",
   "id": "e2237625",
   "metadata": {},
   "source": [
    "## ETL\n",
    "\n",
    "### Paso 1: Obtengo Datos de Mareas de SHN"
   ]
  },
  {
   "cell_type": "code",
   "execution_count": 4,
   "id": "a4c0d917",
   "metadata": {},
   "outputs": [],
   "source": [
    "\n",
    "\n",
    "def extract_tides_info(url):\n",
    "    df_tides = pd.DataFrame()\n",
    "    contador = 0\n",
    "    try:\n",
    "        driver = webdriver.Chrome()\n",
    "        driver.get(url)\n",
    "\n",
    "        df_tides = pd.DataFrame()\n",
    "\n",
    "        #Obtengo botón del form\n",
    "        btn_seach = driver.find_element(By.NAME, \"B1\")\n",
    "\n",
    "        #Obtengo selects y sus listado de opciones\n",
    "        fanio_list = []\n",
    "        fmes_list = []\n",
    "        location_list = []\n",
    "        select_FAnio = Select(WebDriverWait(driver, 10).until(EC.visibility_of(driver.find_element(By.NAME, \"FAnio\"))))\n",
    "        option_list_FAnio = select_FAnio.options\n",
    "        for fanio in option_list_FAnio:\n",
    "            fanio_list.append(fanio.text)\n",
    "        select_location = Select(WebDriverWait(driver, 10).until(EC.visibility_of(driver.find_element(By.NAME, \"Localidad\"))))\n",
    "        option_list_location = select_location.options\n",
    "        for location in option_list_location:\n",
    "            location_list.append(location.text)\n",
    "        select_FMes = Select(WebDriverWait(driver, 10).until(EC.visibility_of(driver.find_element(By.NAME, \"FMes\"))))\n",
    "        option_list_FMes = select_FMes.options\n",
    "        for fmes in option_list_FMes:\n",
    "            fmes_list.append(fmes.text)\n",
    "\n",
    "        #Cargo DF con los registros obtenidos por año mes y localidad\n",
    "        for fanio in fanio_list:\n",
    "            #Debo volver a abrir el navegador porque cada cierto tiempo chrome se cierra y rompe el proceso\n",
    "            driver.close()\n",
    "            driver = webdriver.Chrome()\n",
    "            driver.get(url)            \n",
    "\n",
    "            #Obtengo botón del form\n",
    "            btn_seach = driver.find_element(By.NAME, \"B1\")\n",
    "            for location in location_list:\n",
    "\n",
    "                for fmes in fmes_list:\n",
    "\n",
    "                    select_FAnio = Select(WebDriverWait(driver, 10).until(EC.visibility_of(driver.find_element(By.NAME, \"FAnio\"))))\n",
    "                    select_location = Select(WebDriverWait(driver, 10).until(EC.visibility_of(driver.find_element(By.NAME, \"Localidad\"))))\n",
    "                    select_FMes = Select(WebDriverWait(driver, 10).until(EC.visibility_of(driver.find_element(By.NAME, \"FMes\"))))\n",
    "\n",
    "                    print(fanio,location,fmes)\n",
    "                    #Seteo valores en select\n",
    "                    select_FAnio.select_by_visible_text(fanio)\n",
    "                    select_location.select_by_visible_text(location)\n",
    "                    select_FMes.select_by_visible_text(fmes) \n",
    "\n",
    "                    #Ejecuto consulta        \n",
    "                    btn_seach.click()\n",
    "                    driver.implicitly_wait(5)\n",
    "\n",
    "                    iframe = driver.find_element(By.TAG_NAME, \"iframe\")\n",
    "                    driver.switch_to.frame(iframe)\n",
    "                    \n",
    "\n",
    "                    str_table_tides=''\n",
    "                    #Son dos tablas por consulta\n",
    "                    for div_num in range(1, 3): \n",
    "                        #Evalúo si el primer registro corresponde a Pm(pleamar) o Bm(bajamar)\n",
    "                        height_1 = driver.find_element(By.XPATH, \"//*[@class='LetraMasChica']/div/div[\"+str(div_num)+\"]/div/table/tbody/tr[1]/td[3]\").text \n",
    "                        height_2 = driver.find_element(By.XPATH, \"//*[@class='LetraMasChica']/div/div[\"+str(div_num)+\"]/div/table/tbody/tr[2]/td[3]\").text \n",
    "\n",
    "                        if height_1>height_2:\n",
    "                            first_tide = 'Pm'\n",
    "                        else:\n",
    "                            first_tide = 'Bm'\n",
    "                        \n",
    "                        \n",
    "                        # Obtain the number of rows in body\n",
    "                        rows = len(driver.find_elements(By.XPATH, \"//*[@class='LetraMasChica']/div/div[\"+str(div_num)+\"]/div/table/tbody/tr\")) \n",
    "\n",
    "                        # Obtain the number of columns in table \n",
    "                        cols = len(driver.find_elements(By.XPATH, \"//*[@class='LetraMasChica']/div/div[\"+str(div_num)+\"]/div/table/tbody/tr[1]/td\"))\n",
    "\n",
    "                        # Obtengo texto por fila y columna \n",
    "                        for r in range(1, rows+1): \n",
    "\n",
    "                            for p in range(1, cols+1):    \n",
    "\n",
    "                                value = driver.find_element(By.XPATH, \"//*[@class='LetraMasChica']/div/div[\"+str(div_num)+\"]/div/table/tbody/tr[\"+str(r)+\"]/td[\"+str(p)+\"]\").text \n",
    "\n",
    "                                if value !='':\n",
    "                                    if p == 1:\n",
    "                                        day=value                            \n",
    "                                    str_table_tides = str_table_tides + value\n",
    "                                    if p == 3:\n",
    "                                        str_table_tides = str_table_tides + ';'\n",
    "                                        if first_tide == 'Pm':\n",
    "                                            if r%2 != 0:\n",
    "                                                str_table_tides = str_table_tides + 'Pm' + '\\n'\n",
    "                                            else:\n",
    "                                                str_table_tides = str_table_tides + 'Bm' + '\\n'\n",
    "                                        else:\n",
    "                                            if r%2 != 0:\n",
    "                                                str_table_tides = str_table_tides + 'Bm' + '\\n'\n",
    "                                            else:\n",
    "                                                str_table_tides = str_table_tides + 'Pm' + '\\n'\n",
    "                                    else:\n",
    "                                        str_table_tides = str_table_tides + ';'\n",
    "                                else:\n",
    "                                    str_table_tides = str_table_tides + day + ';'\n",
    "                    \n",
    "                    #Cargo tabla en DF\n",
    "                    str_table_tides = 'day;hour(min);height(m);tide_type\\n' + str_table_tides       \n",
    "                    data_str_io = StringIO(str_table_tides)\n",
    "                    tablaok=pd.read_csv(data_str_io,sep=';')\n",
    "                    \n",
    "                    tablaok.insert(3,'month',fmes)\n",
    "                    tablaok.insert(4,'location',location)\n",
    "                    tablaok.insert(5,'year',fanio)\n",
    "                    driver.switch_to.default_content();\n",
    "                    \n",
    "                    df_tides=pd.concat([df_tides,tablaok], axis=0)\n",
    "                    \n",
    "    finally:\n",
    "        driver.close()\n",
    "\n",
    "    return df_tides\n",
    "\n"
   ]
  },
  {
   "cell_type": "code",
   "execution_count": 5,
   "id": "dd69d522",
   "metadata": {},
   "outputs": [
    {
     "ename": "NoSuchWindowException",
     "evalue": "Message: no such window: target window already closed\nfrom unknown error: web view not found\n  (Session info: chrome=122.0.6261.69)\nStacktrace:\n#0 0x5624ec460793 <unknown>\n#1 0x5624ec1541c6 <unknown>\n#2 0x5624ec12ad7d <unknown>\n#3 0x5624ec1c9c6d <unknown>\n#4 0x5624ec1d058c <unknown>\n#5 0x5624ec1c1398 <unknown>\n#6 0x5624ec1922d3 <unknown>\n#7 0x5624ec192c9e <unknown>\n#8 0x5624ec4248cb <unknown>\n#9 0x5624ec428745 <unknown>\n#10 0x5624ec4112e1 <unknown>\n#11 0x5624ec4292d2 <unknown>\n#12 0x5624ec3f517f <unknown>\n#13 0x5624ec44edc8 <unknown>\n#14 0x5624ec44efc3 <unknown>\n#15 0x5624ec45f944 <unknown>\n#16 0x7f9d88c94ac3 <unknown>\n",
     "output_type": "error",
     "traceback": [
      "\u001b[0;31m---------------------------------------------------------------------------\u001b[0m",
      "\u001b[0;31mNoSuchWindowException\u001b[0m                     Traceback (most recent call last)",
      "Cell \u001b[0;32mIn[4], line 38\u001b[0m, in \u001b[0;36mextract_tides_info\u001b[0;34m(url)\u001b[0m\n\u001b[1;32m     37\u001b[0m \u001b[38;5;66;03m#Obtengo botón del form\u001b[39;00m\n\u001b[0;32m---> 38\u001b[0m btn_seach \u001b[38;5;241m=\u001b[39m driver\u001b[38;5;241m.\u001b[39mfind_element(By\u001b[38;5;241m.\u001b[39mNAME, \u001b[38;5;124m\"\u001b[39m\u001b[38;5;124mB1\u001b[39m\u001b[38;5;124m\"\u001b[39m)\n\u001b[1;32m     39\u001b[0m \u001b[38;5;28;01mfor\u001b[39;00m location \u001b[38;5;129;01min\u001b[39;00m location_list:\n",
      "File \u001b[0;32m~/anaconda3/lib/python3.11/site-packages/selenium/webdriver/remote/webdriver.py:741\u001b[0m, in \u001b[0;36mWebDriver.find_element\u001b[0;34m(self, by, value)\u001b[0m\n\u001b[1;32m    739\u001b[0m     value \u001b[38;5;241m=\u001b[39m \u001b[38;5;124mf\u001b[39m\u001b[38;5;124m'\u001b[39m\u001b[38;5;124m[name=\u001b[39m\u001b[38;5;124m\"\u001b[39m\u001b[38;5;132;01m{\u001b[39;00mvalue\u001b[38;5;132;01m}\u001b[39;00m\u001b[38;5;124m\"\u001b[39m\u001b[38;5;124m]\u001b[39m\u001b[38;5;124m'\u001b[39m\n\u001b[0;32m--> 741\u001b[0m \u001b[38;5;28;01mreturn\u001b[39;00m \u001b[38;5;28mself\u001b[39m\u001b[38;5;241m.\u001b[39mexecute(Command\u001b[38;5;241m.\u001b[39mFIND_ELEMENT, {\u001b[38;5;124m\"\u001b[39m\u001b[38;5;124musing\u001b[39m\u001b[38;5;124m\"\u001b[39m: by, \u001b[38;5;124m\"\u001b[39m\u001b[38;5;124mvalue\u001b[39m\u001b[38;5;124m\"\u001b[39m: value})[\u001b[38;5;124m\"\u001b[39m\u001b[38;5;124mvalue\u001b[39m\u001b[38;5;124m\"\u001b[39m]\n",
      "File \u001b[0;32m~/anaconda3/lib/python3.11/site-packages/selenium/webdriver/remote/webdriver.py:347\u001b[0m, in \u001b[0;36mWebDriver.execute\u001b[0;34m(self, driver_command, params)\u001b[0m\n\u001b[1;32m    346\u001b[0m \u001b[38;5;28;01mif\u001b[39;00m response:\n\u001b[0;32m--> 347\u001b[0m     \u001b[38;5;28mself\u001b[39m\u001b[38;5;241m.\u001b[39merror_handler\u001b[38;5;241m.\u001b[39mcheck_response(response)\n\u001b[1;32m    348\u001b[0m     response[\u001b[38;5;124m\"\u001b[39m\u001b[38;5;124mvalue\u001b[39m\u001b[38;5;124m\"\u001b[39m] \u001b[38;5;241m=\u001b[39m \u001b[38;5;28mself\u001b[39m\u001b[38;5;241m.\u001b[39m_unwrap_value(response\u001b[38;5;241m.\u001b[39mget(\u001b[38;5;124m\"\u001b[39m\u001b[38;5;124mvalue\u001b[39m\u001b[38;5;124m\"\u001b[39m, \u001b[38;5;28;01mNone\u001b[39;00m))\n",
      "File \u001b[0;32m~/anaconda3/lib/python3.11/site-packages/selenium/webdriver/remote/errorhandler.py:229\u001b[0m, in \u001b[0;36mErrorHandler.check_response\u001b[0;34m(self, response)\u001b[0m\n\u001b[1;32m    228\u001b[0m     \u001b[38;5;28;01mraise\u001b[39;00m exception_class(message, screen, stacktrace, alert_text)  \u001b[38;5;66;03m# type: ignore[call-arg]  # mypy is not smart enough here\u001b[39;00m\n\u001b[0;32m--> 229\u001b[0m \u001b[38;5;28;01mraise\u001b[39;00m exception_class(message, screen, stacktrace)\n",
      "\u001b[0;31mNoSuchWindowException\u001b[0m: Message: no such window: target window already closed\nfrom unknown error: web view not found\n  (Session info: chrome=122.0.6261.69)\nStacktrace:\n#0 0x5624ec460793 <unknown>\n#1 0x5624ec1541c6 <unknown>\n#2 0x5624ec12ad7d <unknown>\n#3 0x5624ec1c9c6d <unknown>\n#4 0x5624ec1df766 <unknown>\n#5 0x5624ec1c1173 <unknown>\n#6 0x5624ec1922d3 <unknown>\n#7 0x5624ec192c9e <unknown>\n#8 0x5624ec4248cb <unknown>\n#9 0x5624ec428745 <unknown>\n#10 0x5624ec4112e1 <unknown>\n#11 0x5624ec4292d2 <unknown>\n#12 0x5624ec3f517f <unknown>\n#13 0x5624ec44edc8 <unknown>\n#14 0x5624ec44efc3 <unknown>\n#15 0x5624ec45f944 <unknown>\n#16 0x7f9d88c94ac3 <unknown>\n",
      "\nDuring handling of the above exception, another exception occurred:\n",
      "\u001b[0;31mNoSuchWindowException\u001b[0m                     Traceback (most recent call last)",
      "Cell \u001b[0;32mIn[5], line 2\u001b[0m\n\u001b[1;32m      1\u001b[0m start \u001b[38;5;241m=\u001b[39m process_time()\n\u001b[0;32m----> 2\u001b[0m df_tides\u001b[38;5;241m=\u001b[39mextract_tides_info(url)\n\u001b[1;32m      3\u001b[0m end \u001b[38;5;241m=\u001b[39m process_time()\n\u001b[1;32m      5\u001b[0m \u001b[38;5;28mprint\u001b[39m(\u001b[38;5;124m\"\u001b[39m\u001b[38;5;124mEl proceso demoró: \u001b[39m\u001b[38;5;124m\"\u001b[39m \u001b[38;5;241m+\u001b[39m \u001b[38;5;28mstr\u001b[39m(end\u001b[38;5;241m-\u001b[39mstart))\n",
      "Cell \u001b[0;32mIn[4], line 121\u001b[0m, in \u001b[0;36mextract_tides_info\u001b[0;34m(url)\u001b[0m\n\u001b[1;32m    118\u001b[0m                 df_tides\u001b[38;5;241m=\u001b[39mpd\u001b[38;5;241m.\u001b[39mconcat([df_tides,tablaok], axis\u001b[38;5;241m=\u001b[39m\u001b[38;5;241m0\u001b[39m)\n\u001b[1;32m    120\u001b[0m \u001b[38;5;28;01mfinally\u001b[39;00m:\n\u001b[0;32m--> 121\u001b[0m     driver\u001b[38;5;241m.\u001b[39mclose()\n\u001b[1;32m    123\u001b[0m \u001b[38;5;28;01mreturn\u001b[39;00m df_tides\n",
      "File \u001b[0;32m~/anaconda3/lib/python3.11/site-packages/selenium/webdriver/remote/webdriver.py:458\u001b[0m, in \u001b[0;36mWebDriver.close\u001b[0;34m(self)\u001b[0m\n\u001b[1;32m    450\u001b[0m \u001b[38;5;28;01mdef\u001b[39;00m \u001b[38;5;21mclose\u001b[39m(\u001b[38;5;28mself\u001b[39m) \u001b[38;5;241m-\u001b[39m\u001b[38;5;241m>\u001b[39m \u001b[38;5;28;01mNone\u001b[39;00m:\n\u001b[1;32m    451\u001b[0m \u001b[38;5;250m    \u001b[39m\u001b[38;5;124;03m\"\"\"Closes the current window.\u001b[39;00m\n\u001b[1;32m    452\u001b[0m \n\u001b[1;32m    453\u001b[0m \u001b[38;5;124;03m    :Usage:\u001b[39;00m\n\u001b[0;32m   (...)\u001b[0m\n\u001b[1;32m    456\u001b[0m \u001b[38;5;124;03m            driver.close()\u001b[39;00m\n\u001b[1;32m    457\u001b[0m \u001b[38;5;124;03m    \"\"\"\u001b[39;00m\n\u001b[0;32m--> 458\u001b[0m     \u001b[38;5;28mself\u001b[39m\u001b[38;5;241m.\u001b[39mexecute(Command\u001b[38;5;241m.\u001b[39mCLOSE)\n",
      "File \u001b[0;32m~/anaconda3/lib/python3.11/site-packages/selenium/webdriver/remote/webdriver.py:347\u001b[0m, in \u001b[0;36mWebDriver.execute\u001b[0;34m(self, driver_command, params)\u001b[0m\n\u001b[1;32m    345\u001b[0m response \u001b[38;5;241m=\u001b[39m \u001b[38;5;28mself\u001b[39m\u001b[38;5;241m.\u001b[39mcommand_executor\u001b[38;5;241m.\u001b[39mexecute(driver_command, params)\n\u001b[1;32m    346\u001b[0m \u001b[38;5;28;01mif\u001b[39;00m response:\n\u001b[0;32m--> 347\u001b[0m     \u001b[38;5;28mself\u001b[39m\u001b[38;5;241m.\u001b[39merror_handler\u001b[38;5;241m.\u001b[39mcheck_response(response)\n\u001b[1;32m    348\u001b[0m     response[\u001b[38;5;124m\"\u001b[39m\u001b[38;5;124mvalue\u001b[39m\u001b[38;5;124m\"\u001b[39m] \u001b[38;5;241m=\u001b[39m \u001b[38;5;28mself\u001b[39m\u001b[38;5;241m.\u001b[39m_unwrap_value(response\u001b[38;5;241m.\u001b[39mget(\u001b[38;5;124m\"\u001b[39m\u001b[38;5;124mvalue\u001b[39m\u001b[38;5;124m\"\u001b[39m, \u001b[38;5;28;01mNone\u001b[39;00m))\n\u001b[1;32m    349\u001b[0m     \u001b[38;5;28;01mreturn\u001b[39;00m response\n",
      "File \u001b[0;32m~/anaconda3/lib/python3.11/site-packages/selenium/webdriver/remote/errorhandler.py:229\u001b[0m, in \u001b[0;36mErrorHandler.check_response\u001b[0;34m(self, response)\u001b[0m\n\u001b[1;32m    227\u001b[0m         alert_text \u001b[38;5;241m=\u001b[39m value[\u001b[38;5;124m\"\u001b[39m\u001b[38;5;124malert\u001b[39m\u001b[38;5;124m\"\u001b[39m]\u001b[38;5;241m.\u001b[39mget(\u001b[38;5;124m\"\u001b[39m\u001b[38;5;124mtext\u001b[39m\u001b[38;5;124m\"\u001b[39m)\n\u001b[1;32m    228\u001b[0m     \u001b[38;5;28;01mraise\u001b[39;00m exception_class(message, screen, stacktrace, alert_text)  \u001b[38;5;66;03m# type: ignore[call-arg]  # mypy is not smart enough here\u001b[39;00m\n\u001b[0;32m--> 229\u001b[0m \u001b[38;5;28;01mraise\u001b[39;00m exception_class(message, screen, stacktrace)\n",
      "\u001b[0;31mNoSuchWindowException\u001b[0m: Message: no such window: target window already closed\nfrom unknown error: web view not found\n  (Session info: chrome=122.0.6261.69)\nStacktrace:\n#0 0x5624ec460793 <unknown>\n#1 0x5624ec1541c6 <unknown>\n#2 0x5624ec12ad7d <unknown>\n#3 0x5624ec1c9c6d <unknown>\n#4 0x5624ec1d058c <unknown>\n#5 0x5624ec1c1398 <unknown>\n#6 0x5624ec1922d3 <unknown>\n#7 0x5624ec192c9e <unknown>\n#8 0x5624ec4248cb <unknown>\n#9 0x5624ec428745 <unknown>\n#10 0x5624ec4112e1 <unknown>\n#11 0x5624ec4292d2 <unknown>\n#12 0x5624ec3f517f <unknown>\n#13 0x5624ec44edc8 <unknown>\n#14 0x5624ec44efc3 <unknown>\n#15 0x5624ec45f944 <unknown>\n#16 0x7f9d88c94ac3 <unknown>\n"
     ]
    }
   ],
   "source": [
    "start = process_time()\n",
    "df_tides=extract_tides_info(url)\n",
    "end = process_time()\n",
    "\n",
    "print(\"El proceso demoró: \" + str(end-start))"
   ]
  },
  {
   "cell_type": "code",
   "execution_count": 22,
   "id": "a8e7532f",
   "metadata": {},
   "outputs": [],
   "source": [
    "df_tides.tail\n",
    "#df_tides_ok=pd.read_csv(\"df_tides_ok_1.csv\")\n",
    "df_tides.to_csv(\"df_tides_ok_2.csv\", encoding='utf-8')"
   ]
  },
  {
   "cell_type": "code",
   "execution_count": 5,
   "id": "1ab77452",
   "metadata": {},
   "outputs": [],
   "source": [
    "\n",
    "#df_tides.to_csv('df_tides_ok.csv', encoding='utf-8')"
   ]
  },
  {
   "cell_type": "code",
   "execution_count": 7,
   "id": "ab7464da",
   "metadata": {},
   "outputs": [
    {
     "data": {
      "text/plain": [
       "Index(['day', 'hour(min)', 'height(m)', 'month', 'location', 'year'], dtype='object')"
      ]
     },
     "execution_count": 7,
     "metadata": {},
     "output_type": "execute_result"
    }
   ],
   "source": [
    "df_tides.columns\n"
   ]
  },
  {
   "cell_type": "code",
   "execution_count": 8,
   "id": "81df3c44",
   "metadata": {},
   "outputs": [
    {
     "name": "stdout",
     "output_type": "stream",
     "text": [
      "      day hour(min) height(m)      month        location  year\n",
      "1   01:41      1,38        Pm      Enero         ATALAYA  2022\n",
      "1   08:27      0,62        Bm      Enero         ATALAYA  2022\n",
      "1   13:36      1,22        Pm      Enero         ATALAYA  2022\n",
      "1   20:33      0,41        Bm      Enero         ATALAYA  2022\n",
      "2   02:37      1,33        Pm      Enero         ATALAYA  2022\n",
      "..    ...       ...       ...        ...             ...   ...\n",
      "30  20:42      1,01        Pm  Diciembre  SANTA TERESITA  2024\n",
      "31  02:50      0,66        Bm  Diciembre  SANTA TERESITA  2024\n",
      "31  09:09      1,43        Pm  Diciembre  SANTA TERESITA  2024\n",
      "31  16:19      0,55        Bm  Diciembre  SANTA TERESITA  2024\n",
      "31  21:16      0,98        Pm  Diciembre  SANTA TERESITA  2024\n",
      "\n",
      "[199006 rows x 6 columns]\n"
     ]
    }
   ],
   "source": [
    "print(df_tides)"
   ]
  },
  {
   "cell_type": "code",
   "execution_count": 10,
   "id": "bff7451f",
   "metadata": {},
   "outputs": [],
   "source": []
  },
  {
   "cell_type": "code",
   "execution_count": 17,
   "id": "dc165e0a",
   "metadata": {},
   "outputs": [
    {
     "data": {
      "text/html": [
       "<div>\n",
       "<style scoped>\n",
       "    .dataframe tbody tr th:only-of-type {\n",
       "        vertical-align: middle;\n",
       "    }\n",
       "\n",
       "    .dataframe tbody tr th {\n",
       "        vertical-align: top;\n",
       "    }\n",
       "\n",
       "    .dataframe thead th {\n",
       "        text-align: right;\n",
       "    }\n",
       "</style>\n",
       "<table border=\"1\" class=\"dataframe\">\n",
       "  <thead>\n",
       "    <tr style=\"text-align: right;\">\n",
       "      <th></th>\n",
       "      <th>day</th>\n",
       "      <th>hour(min)</th>\n",
       "      <th>height(m)</th>\n",
       "      <th>tide_type</th>\n",
       "      <th>month</th>\n",
       "      <th>location</th>\n",
       "      <th>year</th>\n",
       "    </tr>\n",
       "  </thead>\n",
       "  <tbody>\n",
       "    <tr>\n",
       "      <th>199001</th>\n",
       "      <td>30</td>\n",
       "      <td>20:42</td>\n",
       "      <td>1,01</td>\n",
       "      <td>Pm</td>\n",
       "      <td>Diciembre</td>\n",
       "      <td>SANTA TERESITA</td>\n",
       "      <td>2024</td>\n",
       "    </tr>\n",
       "    <tr>\n",
       "      <th>199002</th>\n",
       "      <td>31</td>\n",
       "      <td>02:50</td>\n",
       "      <td>0,66</td>\n",
       "      <td>Bm</td>\n",
       "      <td>Diciembre</td>\n",
       "      <td>SANTA TERESITA</td>\n",
       "      <td>2024</td>\n",
       "    </tr>\n",
       "    <tr>\n",
       "      <th>199003</th>\n",
       "      <td>31</td>\n",
       "      <td>09:09</td>\n",
       "      <td>1,43</td>\n",
       "      <td>Pm</td>\n",
       "      <td>Diciembre</td>\n",
       "      <td>SANTA TERESITA</td>\n",
       "      <td>2024</td>\n",
       "    </tr>\n",
       "    <tr>\n",
       "      <th>199004</th>\n",
       "      <td>31</td>\n",
       "      <td>16:19</td>\n",
       "      <td>0,55</td>\n",
       "      <td>Bm</td>\n",
       "      <td>Diciembre</td>\n",
       "      <td>SANTA TERESITA</td>\n",
       "      <td>2024</td>\n",
       "    </tr>\n",
       "    <tr>\n",
       "      <th>199005</th>\n",
       "      <td>31</td>\n",
       "      <td>21:16</td>\n",
       "      <td>0,98</td>\n",
       "      <td>Pm</td>\n",
       "      <td>Diciembre</td>\n",
       "      <td>SANTA TERESITA</td>\n",
       "      <td>2024</td>\n",
       "    </tr>\n",
       "  </tbody>\n",
       "</table>\n",
       "</div>"
      ],
      "text/plain": [
       "        day hour(min) height(m) tide_type      month        location  year\n",
       "199001   30     20:42      1,01        Pm  Diciembre  SANTA TERESITA  2024\n",
       "199002   31     02:50      0,66        Bm  Diciembre  SANTA TERESITA  2024\n",
       "199003   31     09:09      1,43        Pm  Diciembre  SANTA TERESITA  2024\n",
       "199004   31     16:19      0,55        Bm  Diciembre  SANTA TERESITA  2024\n",
       "199005   31     21:16      0,98        Pm  Diciembre  SANTA TERESITA  2024"
      ]
     },
     "execution_count": 17,
     "metadata": {},
     "output_type": "execute_result"
    }
   ],
   "source": [
    "df_tides_ok.tail()"
   ]
  },
  {
   "cell_type": "code",
   "execution_count": 10,
   "id": "0cd22760",
   "metadata": {},
   "outputs": [
    {
     "name": "stdout",
     "output_type": "stream",
     "text": [
      "1\n"
     ]
    }
   ],
   "source": []
  },
  {
   "cell_type": "code",
   "execution_count": null,
   "id": "0ff8a2c7",
   "metadata": {},
   "outputs": [],
   "source": []
  }
 ],
 "metadata": {
  "kernelspec": {
   "display_name": "Python 3 (ipykernel)",
   "language": "python",
   "name": "python3"
  },
  "language_info": {
   "codemirror_mode": {
    "name": "ipython",
    "version": 3
   },
   "file_extension": ".py",
   "mimetype": "text/x-python",
   "name": "python",
   "nbconvert_exporter": "python",
   "pygments_lexer": "ipython3",
   "version": "3.11.5"
  }
 },
 "nbformat": 4,
 "nbformat_minor": 5
}
